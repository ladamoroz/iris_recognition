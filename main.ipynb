{
 "cells": [
  {
   "cell_type": "code",
   "execution_count": 61,
   "metadata": {},
   "outputs": [],
   "source": [
    "from EyeNet import EyeNet\n",
    "import matplotlib.pyplot as plt\n",
    "from preprocess import IrisPreprocessor\n",
    "from test import test\n",
    "import torch\n",
    "from torch.utils.data import DataLoader\n",
    "from train import train"
   ]
  },
  {
   "cell_type": "code",
   "execution_count": 62,
   "metadata": {},
   "outputs": [],
   "source": [
    "image_dir = \"data/images/images/\"\n",
    "labels_dir = \"data/labels/labels/\"\n",
    "\n",
    "preprocessor = IrisPreprocessor(labels_dir=labels_dir, image_dir=image_dir)\n",
    "trainset, testset = preprocessor.preprocess(visualize_flag=False)\n",
    "\n",
    "train_loader = DataLoader(trainset, batch_size=20)\n",
    "test_loader = DataLoader(testset, batch_size=20)"
   ]
  },
  {
   "cell_type": "code",
   "execution_count": 63,
   "metadata": {},
   "outputs": [],
   "source": [
    "net = EyeNet(torch.nn.modules.activation.ReLU)"
   ]
  },
  {
   "cell_type": "code",
   "execution_count": 64,
   "metadata": {},
   "outputs": [],
   "source": [
    "model = train(\n",
    "                model=net,\n",
    "                epochs=10,\n",
    "                train_dataloader=train_loader,\n",
    "                optimizer=torch.optim.SGD(net.parameters(), lr=1e-3),\n",
    "                base_loss_function=torch.nn.MSELoss(),\n",
    "                aux_loss_function=torch.nn.L1Loss(),\n",
    "            )"
   ]
  },
  {
   "cell_type": "code",
   "execution_count": 65,
   "metadata": {},
   "outputs": [
    {
     "name": "stdout",
     "output_type": "stream",
     "text": [
      "0.40990206599235535\n"
     ]
    }
   ],
   "source": [
    "test_loss = test(model, test_loader, torch.nn.MSELoss(), torch.nn.L1Loss())\n",
    "print(test_loss)"
   ]
  },
  {
   "cell_type": "code",
   "execution_count": 66,
   "metadata": {},
   "outputs": [
    {
     "data": {
      "image/png": "[encoded data removed]",
      "text/plain": [
       "<Figure size 1440x720 with 6 Axes>"
      ]
     },
     "metadata": {
      "needs_background": "light"
     },
     "output_type": "display_data"
    }
   ],
   "source": [
    "images = []\n",
    "labels = []\n",
    "for i in range(3):\n",
    "    temp_images, temp_labels = iter(test_loader).next()\n",
    "    images += temp_images \n",
    "    labels += temp_labels\n",
    "\n",
    "fig, axs = plt.subplots(1, 6)\n",
    "fig.set_size_inches(20,10)\n",
    "for i in range(6):\n",
    "    axs[i].imshow(images[i].permute(1,2,0), cmap='gray')\n",
    "    axs[i].scatter(images[i].squeeze(dim=0).argmax().item() % 48, images[i].squeeze(dim=0).argmax().item() // 48, c='red')\n",
    "    axs[i].scatter(labels[i].squeeze(dim=0).argmax().item() % 48, labels[i].squeeze(dim=0).argmax().item() // 48, c='green')\n",
    "    axs[i].axis('off')"
   ]
  }
 ],
 "metadata": {
  "interpreter": {
   "hash": "31f2aee4e71d21fbe5cf8b01ff0e069b9275f58929596ceb00d14d90e3e16cd6"
  },
  "kernelspec": {
   "display_name": "Python 3.8.9 64-bit",
   "language": "python",
   "name": "python3"
  },
  "language_info": {
   "codemirror_mode": {
    "name": "ipython",
    "version": 3
   },
   "file_extension": ".py",
   "mimetype": "text/x-python",
   "name": "python",
   "nbconvert_exporter": "python",
   "pygments_lexer": "ipython3",
   "version": "3.8.9"
  },
  "orig_nbformat": 4
 },
 "nbformat": 4,
 "nbformat_minor": 2
}
